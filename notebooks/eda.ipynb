{
 "cells": [
  {
   "cell_type": "markdown",
   "id": "7d3a059d",
   "metadata": {},
   "source": [
    "data distribution (tumor vs no tumor)\n",
    "\n",
    "class imbalance\n",
    "\n",
    "visaulizations\n",
    "\n",
    "data cleaning "
   ]
  }
 ],
 "metadata": {
  "language_info": {
   "name": "python"
  }
 },
 "nbformat": 4,
 "nbformat_minor": 5
}
