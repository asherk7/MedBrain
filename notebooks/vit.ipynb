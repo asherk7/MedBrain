{
 "cells": [
  {
   "cell_type": "markdown",
   "id": "f3fee837",
   "metadata": {},
   "source": [
    "# Process of creating the Vision Transformer (ViT) model"
   ]
  }
 ],
 "metadata": {
  "language_info": {
   "name": "python"
  }
 },
 "nbformat": 4,
 "nbformat_minor": 5
}
